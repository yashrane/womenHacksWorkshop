{
 "cells": [
  {
   "cell_type": "markdown",
   "metadata": {},
   "source": [
    "# Deep Learning Intro with Keras # \n",
    "Today, we will be learning how to utilize one of the most prominent packages of Deep Learning: Keras. Keras is one of the more simple packages for deep learning, while there are others like PyTorch and Tensorflow that get a bit more into the nitty gritty. \n",
    "\n",
    "The dataset we will be using today is MNIST which consists of a bunch of handwritten digits and our goal is to be able to take a picture of the digit and classify it to the correct digit. "
   ]
  },
  {
   "cell_type": "code",
   "execution_count": 1,
   "metadata": {},
   "outputs": [
    {
     "name": "stderr",
     "output_type": "stream",
     "text": [
      "Using TensorFlow backend.\n"
     ]
    }
   ],
   "source": [
    "# Plot ad hoc mnist instances\n",
    "from keras.datasets import mnist\n",
    "import matplotlib.pyplot as plt\n",
    "%matplotlib inline\n",
    "%tensorflow_version 1.x\n",
    "\n",
    "import numpy\n",
    "from keras.datasets import mnist\n",
    "from keras.models import Sequential\n",
    "from keras.layers import Dense, Conv2D, MaxPool2D, Flatten, Dropout\n",
    "from keras.utils import np_utils"
   ]
  },
  {
   "cell_type": "markdown",
   "metadata": {},
   "source": [
    "## Let's see some of our data ## \n",
    "Using matplotlib's pyplot library "
   ]
  },
  {
   "cell_type": "code",
   "execution_count": 2,
   "metadata": {},
   "outputs": [
    {
     "data": {
      "image/png": "[encoded data removed]",
      "text/plain": [
       "<Figure size 432x288 with 4 Axes>"
      ]
     },
     "metadata": {
      "needs_background": "light"
     },
     "output_type": "display_data"
    }
   ],
   "source": [
    "# load (downloaded if needed) the MNIST dataset\n",
    "(X_train, y_train), (X_test, y_test) = mnist.load_data()\n",
    "# plot 4 images as gray scale\n",
    "plt.subplot(221)\n",
    "plt.imshow(X_train[0], cmap=plt.get_cmap('gray'))\n",
    "plt.subplot(222)\n",
    "plt.imshow(X_train[1], cmap=plt.get_cmap('gray'))\n",
    "plt.subplot(223)\n",
    "plt.imshow(X_train[2], cmap=plt.get_cmap('gray'))\n",
    "plt.subplot(224)\n",
    "plt.imshow(X_train[3], cmap=plt.get_cmap('gray'))\n",
    "# show the plot\n",
    "plt.show()"
   ]
  },
  {
   "cell_type": "code",
   "execution_count": 3,
   "metadata": {},
   "outputs": [
    {
     "data": {
      "text/plain": [
       "<matplotlib.image.AxesImage at 0xb413f4710>"
      ]
     },
     "execution_count": 3,
     "metadata": {},
     "output_type": "execute_result"
    },
    {
     "data": {
      "image/png": "[encoded data removed]",
      "text/plain": [
       "<Figure size 432x288 with 1 Axes>"
      ]
     },
     "metadata": {
      "needs_background": "light"
     },
     "output_type": "display_data"
    }
   ],
   "source": [
    "plt.imshow(X_train[4], cmap=plt.get_cmap('gray'))"
   ]
  },
  {
   "cell_type": "code",
   "execution_count": 4,
   "metadata": {},
   "outputs": [],
   "source": [
    "# fix random seed for reproducibility\n",
    "seed = 7\n",
    "numpy.random.seed(seed)"
   ]
  },
  {
   "cell_type": "code",
   "execution_count": 5,
   "metadata": {},
   "outputs": [],
   "source": [
    "# flatten 28*28 images to a 784 vector for each image\n",
    "num_pixels = X_train.shape[1]**2\n",
    "X_train = X_train.reshape(X_train.shape[0], num_pixels).astype('float32')\n",
    "X_test = X_test.reshape(X_test.shape[0], num_pixels).astype('float32')"
   ]
  },
  {
   "cell_type": "code",
   "execution_count": 6,
   "metadata": {},
   "outputs": [],
   "source": [
    "# normalize inputs from 0-255 to 0-1\n",
    "X_train = X_train / 255\n",
    "X_test = X_test / 255"
   ]
  },
  {
   "cell_type": "code",
   "execution_count": 7,
   "metadata": {},
   "outputs": [],
   "source": [
    "# one hot encode outputs\n",
    "y_train = np_utils.to_categorical(y_train)\n",
    "y_test = np_utils.to_categorical(y_test)\n",
    "num_classes = y_test.shape[1]"
   ]
  },
  {
   "cell_type": "code",
   "execution_count": 8,
   "metadata": {},
   "outputs": [],
   "source": [
    "def baseline_model():\n",
    "    # create model\n",
    "    model = Sequential()\n",
    "    model.add(Dense(num_pixels, input_dim=num_pixels, kernel_initializer='normal', activation='relu'))\n",
    "    model.add(Dense(num_classes, kernel_initializer='normal', activation='softmax'))\n",
    "    # Compile model\n",
    "    model.compile(loss='categorical_crossentropy', optimizer='adam', metrics=['accuracy'])\n",
    "    return model\n",
    "\n",
    "def cool_model():\n",
    "    model = Sequential()\n",
    "    model.add(Conv2D(32, 3, 3, activation='relu', input_shape=(28, 28, 1)))\n",
    "    model.add(Conv2D(32, 3, 3, activation='relu'))\n",
    "    model.add(MaxPool2D(pool_size=(2,2)))\n",
    "    model.add(Dropout(0.25))\n",
    "\n",
    "    model.add(Flatten())\n",
    "    model.add(Dense(128, activation='relu'))\n",
    "    model.add(Dropout(0.5))\n",
    "    model.add(Dense(10, activation='softmax'))\n",
    "    model.compile(loss='categorical_crossentropy',\n",
    "              optimizer='adam',\n",
    "              metrics=['accuracy'])\n",
    "    return model "
   ]
  },
  {
   "cell_type": "code",
   "execution_count": 9,
   "metadata": {},
   "outputs": [
    {
     "name": "stdout",
     "output_type": "stream",
     "text": [
      "Train on 60000 samples, validate on 10000 samples\n",
      "Epoch 1/10\n",
      " - 4s - loss: 0.2803 - acc: 0.9207 - val_loss: 0.1416 - val_acc: 0.9570\n",
      "Epoch 2/10\n",
      " - 4s - loss: 0.1116 - acc: 0.9677 - val_loss: 0.0922 - val_acc: 0.9706\n",
      "Epoch 3/10\n",
      " - 4s - loss: 0.0716 - acc: 0.9796 - val_loss: 0.0786 - val_acc: 0.9777\n",
      "Epoch 4/10\n",
      " - 4s - loss: 0.0504 - acc: 0.9855 - val_loss: 0.0743 - val_acc: 0.9762\n",
      "Epoch 5/10\n",
      " - 4s - loss: 0.0373 - acc: 0.9891 - val_loss: 0.0670 - val_acc: 0.9790\n",
      "Epoch 6/10\n",
      " - 4s - loss: 0.0269 - acc: 0.9928 - val_loss: 0.0635 - val_acc: 0.9801\n",
      "Epoch 7/10\n",
      " - 4s - loss: 0.0208 - acc: 0.9949 - val_loss: 0.0617 - val_acc: 0.9809\n",
      "Epoch 8/10\n",
      " - 4s - loss: 0.0141 - acc: 0.9969 - val_loss: 0.0626 - val_acc: 0.9802\n",
      "Epoch 9/10\n",
      " - 4s - loss: 0.0108 - acc: 0.9978 - val_loss: 0.0573 - val_acc: 0.9822\n",
      "Epoch 10/10\n",
      " - 4s - loss: 0.0080 - acc: 0.9986 - val_loss: 0.0592 - val_acc: 0.9812\n",
      "Baseline Error: 1.88%\n"
     ]
    }
   ],
   "source": [
    "model = baseline_model()\n",
    "model.fit(X_train, y_train, validation_data=(X_test, y_test), epochs=10, batch_size=200, verbose=2)\n",
    "scores = model.evaluate(X_test, y_test, verbose=0)\n",
    "print(\"Baseline Error: %.2f%%\" % (100-scores[1]*100))"
   ]
  },
  {
   "cell_type": "code",
   "execution_count": 10,
   "metadata": {},
   "outputs": [
    {
     "name": "stderr",
     "output_type": "stream",
     "text": [
      "/Users/calvin_wang/anaconda2/envs/women/lib/python3.6/site-packages/ipykernel_launcher.py:12: UserWarning: Update your `Conv2D` call to the Keras 2 API: `Conv2D(32, (3, 3), activation=\"relu\", input_shape=(28, 28, 1...)`\n",
      "  if sys.path[0] == '':\n",
      "/Users/calvin_wang/anaconda2/envs/women/lib/python3.6/site-packages/ipykernel_launcher.py:13: UserWarning: Update your `Conv2D` call to the Keras 2 API: `Conv2D(32, (3, 3), activation=\"relu\")`\n",
      "  del sys.path[0]\n"
     ]
    },
    {
     "name": "stdout",
     "output_type": "stream",
     "text": [
      "Train on 60000 samples, validate on 10000 samples\n",
      "Epoch 1/10\n",
      " - 38s - loss: 0.3107 - acc: 0.9049 - val_loss: 0.0662 - val_acc: 0.9781\n",
      "Epoch 2/10\n",
      " - 38s - loss: 0.1057 - acc: 0.9685 - val_loss: 0.0427 - val_acc: 0.9866\n",
      "Epoch 3/10\n",
      " - 37s - loss: 0.0786 - acc: 0.9757 - val_loss: 0.0368 - val_acc: 0.9875\n",
      "Epoch 4/10\n",
      " - 38s - loss: 0.0631 - acc: 0.9807 - val_loss: 0.0362 - val_acc: 0.9878\n",
      "Epoch 5/10\n",
      " - 38s - loss: 0.0555 - acc: 0.9831 - val_loss: 0.0298 - val_acc: 0.9903\n",
      "Epoch 6/10\n",
      " - 38s - loss: 0.0492 - acc: 0.9849 - val_loss: 0.0290 - val_acc: 0.9905\n",
      "Epoch 7/10\n",
      " - 38s - loss: 0.0443 - acc: 0.9867 - val_loss: 0.0337 - val_acc: 0.9894\n",
      "Epoch 8/10\n",
      " - 39s - loss: 0.0416 - acc: 0.9869 - val_loss: 0.0276 - val_acc: 0.9913\n",
      "Epoch 9/10\n",
      " - 40s - loss: 0.0385 - acc: 0.9874 - val_loss: 0.0264 - val_acc: 0.9915\n",
      "Epoch 10/10\n",
      " - 39s - loss: 0.0341 - acc: 0.9896 - val_loss: 0.0290 - val_acc: 0.9913\n",
      "Baseline Error: 0.87%\n"
     ]
    }
   ],
   "source": [
    "X_train = X_train.reshape(X_train.shape[0], 28, 28, 1)\n",
    "X_test = X_test.reshape(X_test.shape[0], 28, 28, 1)\n",
    "\n",
    "model_cool = cool_model()\n",
    "model_cool.fit(X_train, y_train, validation_data=(X_test, y_test), epochs=10, batch_size=200, verbose=2)\n",
    "scores = model_cool.evaluate(X_test, y_test, verbose=0)\n",
    "print(\"Baseline Error: %.2f%%\" % (100-scores[1]*100))"
   ]
  }
 ],
 "metadata": {
  "kernelspec": {
   "display_name": "Python 3",
   "language": "python",
   "name": "python3"
  },
  "language_info": {
   "codemirror_mode": {
    "name": "ipython",
    "version": 3
   },
   "file_extension": ".py",
   "mimetype": "text/x-python",
   "name": "python",
   "nbconvert_exporter": "python",
   "pygments_lexer": "ipython3",
   "version": "3.6.8"
  }
 },
 "nbformat": 4,
 "nbformat_minor": 2
}
